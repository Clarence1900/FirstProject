{
 "cells": [
  {
   "cell_type": "code",
   "execution_count": 11,
   "metadata": {},
   "outputs": [],
   "source": [
    "import requests\n",
    "from bs4 import BeautifulSoup\n",
    "import selenium"
   ]
  },
  {
   "cell_type": "code",
   "execution_count": 18,
   "metadata": {},
   "outputs": [],
   "source": [
    "header_data={'user-agent': 'Mozilla/5.0 (Windows NT 10.0; Win64; x64) AppleWebKit/537.36 (KHTML, like Gecko) Chrome/74.0.3729.169 Safari/537.36'}\n",
    "rootUrl = requests.get('https://www.zhipin.com/c101200100/?query=%E6%95%B0%E6%8D%AE%E5%88%86%E6%9E%90&page=2', headers = header_data)"
   ]
  },
  {
   "cell_type": "code",
   "execution_count": 14,
   "metadata": {},
   "outputs": [
    {
     "name": "stdout",
     "output_type": "stream",
     "text": [
      "<!DOCTYPE html>\n",
      "<html>\n",
      "<head>\n",
      "    <meta charset=\"utf-8\">\n",
      "    <title>BOSS直聘-互联网招聘神器！</title>\n",
      "    <meta name=\"viewport\" content=\"width=device-width, initial-scale=1.0, maximum-scale=1.0, minimum-scale=1.0, user-scalable=no\" />\n",
      "    <meta name=\"keywords\" content=\"BOSS直聘,直聘网,招聘网,人才网,找工作\"/>\n",
      "    <meta name=\"description\" content=\"BOSS直聘是权威领先的招聘网，开启人才网招聘求职新时代，让求职者与Boss直接开聊、加快面试、即时反馈，找工作就来BOSS直聘和Boss开聊吧！\"/>\n",
      "    <style>\n",
      "        * { margin:0; padding:0; }\n",
      "        html,body { height:100%; }\n",
      "        body { background-color:#EEF0F5; }\n",
      "        body,button { font-family: arial, verdana, helvetica,'PingFang SC','HanHei SC','STHeitiSC-Light', Microsoft Yahei,sans-serif; font-size: 14px; line-height: 24px; color: #414a60; -webkit-font-smoothing: antialiased;}\n",
      "        a { text-decoration:none; }\n",
      "        #wrap { position:relative; min-height:100%; }\n",
      "        .btn { display:inline-block; width:98px; height:32px; line-height:32px; border:1px #62D5C8 solid; color:#5dd5c8; text-align:center; margin-right:20px; }\n",
      "        .btn:hover { background-color:#fff; }\n",
      "        .error-content { position:absolute; width:644px; min-height:260px; top:50%; left:50%; margin-left:-322px; margin-top:-160px; background:url(https://static.zhipin.com/v2/web/boss/images/icon-page-error.png) right center no-repeat; }\n",
      "        .error-content h1 { font-size:30px; line-height:36px; padding-top:30px; }\n",
      "        .error-content h3 { padding:20px 0 18px; font-size:18px; font-weight: normal; }\n",
      "        .error-content h3.gray { color:#9fa3b0;}\n",
      "        .error-content p { color:#9fa3b0; max-width:300px; }\n",
      "        .error-content .btns { padding-top:30px; }\n",
      "        #footer { position:absolute; width:100%; bottom:10px; text-align:center; color:#bec3d1; }\n",
      "        @media (max-width: 760px) {\n",
      "            .error-content { top: 50%; left: 50%; transform: translate(-50%, -50%); margin: 0 auto; width: auto; background-position: center 30px; background-size: 200px auto; text-align: center; padding-top: 150px; }\n",
      "            .error-content h1 { font-size: 24px; }\n",
      "            .error-content h3 { font-size: 15px; padding: 10px 0 10px; }\n",
      "            .btns { white-space: nowrap; }\n",
      "            #footer { font-size: 12px; }\n",
      "        }\n",
      "    </style>\n",
      "</head>\n",
      "<body>\n",
      "<div id=\"wrap\">\n",
      "    <div id=\"main\">\n",
      "        <div class=\"error-content\">\n",
      "            <div class=\"text\">\n",
      "                <h1>403</h1>\n",
      "                <h3 class=\"gray\">您暂时无法继续访问～</h3>\n",
      "                <p>\n",
      "                    由于您当前网络访问页面过于频繁，可能存在安全风险，我们暂时阻止了您的本次访问，24小时将自动解除限制。\n",
      "                </p>\n",
      "            </div>\n",
      "        </div>\n",
      "    </div>\n",
      "    <div id=\"footer\">\n",
      "        <p>&copy; copyright BOSS直聘 2019 京ICP备14013441号-5</p>\n",
      "    </div>\n",
      "</div>\n",
      "</body>\n",
      "</html>\n"
     ]
    }
   ],
   "source": [
    "import lxml\n",
    "print(rootUrl.text)\n",
    "# for page in range(1,20):\n",
    "#     Answerlistloop = requests.get('https://www.zhihu.com/people/sean-yenan/answers?page={}'.format(page * 1))\n",
    "#     pageContent = requests.get(Answerlistloop)"
   ]
  },
  {
   "cell_type": "code",
   "execution_count": null,
   "metadata": {},
   "outputs": [],
   "source": []
  }
 ],
 "metadata": {
  "kernelspec": {
   "display_name": "Python 3",
   "language": "python",
   "name": "python3"
  },
  "language_info": {
   "codemirror_mode": {
    "name": "ipython",
    "version": 3
   },
   "file_extension": ".py",
   "mimetype": "text/x-python",
   "name": "python",
   "nbconvert_exporter": "python",
   "pygments_lexer": "ipython3",
   "version": "3.7.3"
  }
 },
 "nbformat": 4,
 "nbformat_minor": 2
}
